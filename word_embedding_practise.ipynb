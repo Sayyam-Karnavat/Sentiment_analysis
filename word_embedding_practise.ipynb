{
 "cells": [
  {
   "cell_type": "markdown",
   "metadata": {},
   "source": [
    "### Word embedding [Feature Representation]\n",
    "\n",
    "- Creating our own Embedding layer on custom dataset"
   ]
  },
  {
   "cell_type": "code",
   "execution_count": 1,
   "metadata": {},
   "outputs": [],
   "source": [
    "from tensorflow.keras.preprocessing.text import one_hot"
   ]
  },
  {
   "cell_type": "code",
   "execution_count": null,
   "metadata": {},
   "outputs": [
    {
     "name": "stdout",
     "output_type": "stream",
     "text": [
      "[[459, 73, 682], [459, 73, 431], [459, 73, 933], [459, 73, 682, 431, 933]]\n"
     ]
    }
   ],
   "source": [
    "sentences = [\n",
    "    'I am sanyam',\n",
    "    'I am Suyash',\n",
    "    'I am karnavat',\n",
    "    'I am sanyam suyash karnavat'\n",
    "]\n",
    "vocabulary_size = 1000\n",
    "\n",
    "ohe_words = [ one_hot(words , vocabulary_size) for words in sentences]\n",
    "print(ohe_words)"
   ]
  },
  {
   "cell_type": "code",
   "execution_count": 7,
   "metadata": {},
   "outputs": [],
   "source": [
    "from tensorflow.keras.layers import Embedding\n",
    "from tensorflow.keras.utils import pad_sequences\n",
    "from tensorflow.keras.models import Sequential"
   ]
  },
  {
   "cell_type": "code",
   "execution_count": 10,
   "metadata": {},
   "outputs": [
    {
     "name": "stdout",
     "output_type": "stream",
     "text": [
      "Maximum length of word :- 5\n",
      "[[459  73 682   0   0]\n",
      " [459  73 431   0   0]\n",
      " [459  73 933   0   0]\n",
      " [459  73 682 431 933]]\n"
     ]
    }
   ],
   "source": [
    "# Use pad sequence to make all sequences of same size\n",
    "\n",
    "max_length_of_words = max([len(words) for words in ohe_words])\n",
    "\n",
    "\n",
    "print(\"Maximum length of word :-\" , max_length_of_words)\n",
    "\n",
    "\n",
    "\n",
    "padded_sequences = pad_sequences(ohe_words , padding=\"post\" , maxlen=max_length_of_words)\n",
    "\n",
    "print(padded_sequences)\n"
   ]
  },
  {
   "cell_type": "code",
   "execution_count": 13,
   "metadata": {},
   "outputs": [],
   "source": [
    "## Feature respresentation\n",
    "dimension = 10\n",
    "\n",
    "model = Sequential()\n",
    "\n",
    "model.add(Embedding(vocabulary_size , dimension , input_length = max_length_of_words))\n",
    "model.compile(optimizer = \"adam\" , loss=\"mse\")\n"
   ]
  },
  {
   "cell_type": "code",
   "execution_count": 15,
   "metadata": {},
   "outputs": [
    {
     "name": "stdout",
     "output_type": "stream",
     "text": [
      "\u001b[1m1/1\u001b[0m \u001b[32m━━━━━━━━━━━━━━━━━━━━\u001b[0m\u001b[37m\u001b[0m \u001b[1m0s\u001b[0m 22ms/step\n"
     ]
    }
   ],
   "source": [
    "# Use the word embedding model to create embedding layer\n",
    "\n",
    "embedded_words = model.predict(padded_sequences)"
   ]
  },
  {
   "cell_type": "code",
   "execution_count": 19,
   "metadata": {},
   "outputs": [
    {
     "name": "stdout",
     "output_type": "stream",
     "text": [
      "Original word :- I am sanyam\n",
      "OHE representation :- [459, 73, 682]\n",
      "Original word :-  [459  73 682   0   0]\n",
      "Word Embedding representation :-  [[ 0.01493095  0.01791335  0.03134152 -0.03439988  0.01790612  0.01703444\n",
      "   0.04900238  0.00582615 -0.01633563  0.02048888]\n",
      " [ 0.03056795 -0.02910335 -0.02517414 -0.01841312 -0.03367374 -0.03787353\n",
      "   0.02041579  0.03377419 -0.03515213  0.02865057]\n",
      " [ 0.01264698  0.04288162  0.04160866  0.00458205 -0.02337893 -0.01067852\n",
      "  -0.00493654 -0.03227206  0.03224811 -0.03959392]\n",
      " [-0.00818516  0.02350532  0.03726149 -0.01090038  0.00322306  0.02184576\n",
      "   0.00183892  0.03572135 -0.00689123  0.02090048]\n",
      " [-0.00818516  0.02350532  0.03726149 -0.01090038  0.00322306  0.02184576\n",
      "   0.00183892  0.03572135 -0.00689123  0.02090048]]\n"
     ]
    }
   ],
   "source": [
    "print(\"Original word :-\" , sentences[0])\n",
    "print(\"OHE representation :-\" , ohe_words[0])\n",
    "print(\"Original word :- \" , padded_sequences[0])\n",
    "print(\"Word Embedding representation :- \" , embedded_words[0])"
   ]
  },
  {
   "cell_type": "code",
   "execution_count": null,
   "metadata": {},
   "outputs": [],
   "source": []
  }
 ],
 "metadata": {
  "kernelspec": {
   "display_name": ".venv",
   "language": "python",
   "name": "python3"
  },
  "language_info": {
   "codemirror_mode": {
    "name": "ipython",
    "version": 3
   },
   "file_extension": ".py",
   "mimetype": "text/x-python",
   "name": "python",
   "nbconvert_exporter": "python",
   "pygments_lexer": "ipython3",
   "version": "3.12.5"
  }
 },
 "nbformat": 4,
 "nbformat_minor": 2
}
