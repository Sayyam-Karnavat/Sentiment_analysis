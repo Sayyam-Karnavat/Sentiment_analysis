{
 "cells": [
  {
   "cell_type": "code",
   "execution_count": 9,
   "metadata": {},
   "outputs": [],
   "source": [
    "import tensorflow as tf\n",
    "from tensorflow.keras.models import load_model\n",
    "from tensorflow.keras.datasets import imdb\n",
    "from tensorflow.keras.preprocessing.sequence import pad_sequences\n"
   ]
  },
  {
   "cell_type": "code",
   "execution_count": 10,
   "metadata": {},
   "outputs": [],
   "source": [
    "model = load_model(\"RNN_IMDB.keras\")\n"
   ]
  },
  {
   "cell_type": "code",
   "execution_count": 11,
   "metadata": {},
   "outputs": [],
   "source": [
    "word_index = imdb.get_word_index()\n",
    "\n",
    "reverse_word_index = {value:key for key ,value in word_index.items()}"
   ]
  },
  {
   "cell_type": "code",
   "execution_count": 12,
   "metadata": {},
   "outputs": [],
   "source": [
    "def deocode_review(encoded_review):\n",
    "\n",
    "    return ' '.join([reverse_word_index.get(i-3) for i in encoded_review])\n",
    "\n",
    "def preprocess_text(text:str):\n",
    "    words = text.split()\n",
    "\n",
    "    # Note if word not found the word_index.get() 2 \n",
    "    encoded_reviews = [word_index.get(word , 2) + 3 for word in words]\n",
    "\n",
    "    # Pad the sequence \n",
    "    padded_review = pad_sequences([encoded_reviews] , maxlen=500 )\n",
    "\n",
    "    return padded_review\n"
   ]
  },
  {
   "cell_type": "code",
   "execution_count": 13,
   "metadata": {},
   "outputs": [],
   "source": [
    "def predict_sentiment(review):\n",
    "\n",
    "    preprocessed_input = preprocess_text(review)\n",
    "    prediction = model.predict(preprocessed_input)\n",
    "\n",
    "    sentiment = \"Positive\" if prediction[0][0] > 0.5 else \"Negative\"\n",
    "\n",
    "    return sentiment , prediction[0][0]\n",
    "\n",
    "\n"
   ]
  },
  {
   "cell_type": "code",
   "execution_count": 15,
   "metadata": {},
   "outputs": [
    {
     "name": "stdout",
     "output_type": "stream",
     "text": [
      "\u001b[1m1/1\u001b[0m \u001b[32m━━━━━━━━━━━━━━━━━━━━\u001b[0m\u001b[37m\u001b[0m \u001b[1m0s\u001b[0m 43ms/step\n",
      "Sentiment :- Negative\n",
      "Sentiment Score :- 0.12162927\n"
     ]
    }
   ],
   "source": [
    "example_review = \"This movie was horrible\"\n",
    "\n",
    "\n",
    "sentiment , Sentiment_Score = predict_sentiment(example_review)\n",
    "\n",
    "print(\"Sentiment :-\" , sentiment)\n",
    "print(\"Sentiment Score :-\" , Sentiment_Score)"
   ]
  },
  {
   "cell_type": "code",
   "execution_count": null,
   "metadata": {},
   "outputs": [],
   "source": []
  }
 ],
 "metadata": {
  "kernelspec": {
   "display_name": ".venv",
   "language": "python",
   "name": "python3"
  },
  "language_info": {
   "codemirror_mode": {
    "name": "ipython",
    "version": 3
   },
   "file_extension": ".py",
   "mimetype": "text/x-python",
   "name": "python",
   "nbconvert_exporter": "python",
   "pygments_lexer": "ipython3",
   "version": "3.12.4"
  }
 },
 "nbformat": 4,
 "nbformat_minor": 2
}
